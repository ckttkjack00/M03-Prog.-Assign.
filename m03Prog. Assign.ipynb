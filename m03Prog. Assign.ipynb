{
 "cells": [
  {
   "cell_type": "code",
   "execution_count": null,
   "id": "5223282b-a76e-45d2-8bd9-f3e48d38fead",
   "metadata": {},
   "outputs": [],
   "source": [
    "7.4"
   ]
  },
  {
   "cell_type": "code",
   "execution_count": 1,
   "id": "0d8bf20e-1469-41db-a56a-62bf9ca13862",
   "metadata": {},
   "outputs": [
    {
     "name": "stdout",
     "output_type": "stream",
     "text": [
      "['mozzarella', 'cinderella', 'salmoella']\n"
     ]
    }
   ],
   "source": [
    "things = [\"mozzarella\", \"cinderella\", \"salmoella\"]\n",
    "print(things)"
   ]
  },
  {
   "cell_type": "code",
   "execution_count": null,
   "id": "1ce6ef8a-14e6-4c6c-97b1-82a724dfc630",
   "metadata": {},
   "outputs": [],
   "source": [
    "7.5"
   ]
  },
  {
   "cell_type": "code",
   "execution_count": 3,
   "id": "e7fa5e16-7760-4ff2-8af1-482947b7e542",
   "metadata": {},
   "outputs": [
    {
     "name": "stdout",
     "output_type": "stream",
     "text": [
      "['mozzarella', 'Cinderella', 'salmoella']\n"
     ]
    }
   ],
   "source": [
    "things = [\"mozzarella\", \"cinderella\", \"salmonella\"]\n",
    "\n",
    "# Capitalize \"cinderella\"\n",
    "things[1] = things[1].capitalize()\n",
    "\n",
    "print(things)"
   ]
  },
  {
   "cell_type": "code",
   "execution_count": null,
   "id": "374d9fba-da59-4e7e-91f3-0f39ba6a79a4",
   "metadata": {},
   "outputs": [],
   "source": [
    "Answer: Yes it capitalized Cinderlla"
   ]
  },
  {
   "cell_type": "code",
   "execution_count": null,
   "id": "905fe170-e65e-4e14-a9b0-4bcd9c393e09",
   "metadata": {},
   "outputs": [],
   "source": [
    "7.6"
   ]
  },
  {
   "cell_type": "code",
   "execution_count": 5,
   "id": "29f1f88c-f297-40bb-8011-518ef9a7e930",
   "metadata": {},
   "outputs": [
    {
     "name": "stdout",
     "output_type": "stream",
     "text": [
      "['MOZZARELLA', 'Cinderella', 'salmoella']\n"
     ]
    }
   ],
   "source": [
    "things[0] = things[0].upper()\n",
    "print(things)"
   ]
  },
  {
   "cell_type": "code",
   "execution_count": null,
   "id": "b09a68d7-56ca-48db-9306-233d1eeb732b",
   "metadata": {},
   "outputs": [],
   "source": [
    "7.7"
   ]
  },
  {
   "cell_type": "code",
   "execution_count": 9,
   "id": "db20c1e1-f894-447e-a30f-9ce421c2532a",
   "metadata": {},
   "outputs": [
    {
     "name": "stdout",
     "output_type": "stream",
     "text": [
      "['MOZZARELLA', 'cinderella']\n"
     ]
    }
   ],
   "source": [
    "things = [\"MOZZARELLA\", \"cinderella\", \"salmonella\"]\n",
    "\n",
    "# Delete \"salmonella\"\n",
    "del things[2]\n",
    "\n",
    "print(things)"
   ]
  },
  {
   "cell_type": "code",
   "execution_count": null,
   "id": "00261afa-ebfa-4412-a76b-76d4306ad051",
   "metadata": {},
   "outputs": [],
   "source": [
    "9.1"
   ]
  },
  {
   "cell_type": "code",
   "execution_count": 11,
   "id": "ce0440a1-cdd8-4ce8-a312-fee95446273b",
   "metadata": {},
   "outputs": [
    {
     "name": "stdout",
     "output_type": "stream",
     "text": [
      "['Harry', 'Ron', 'Hermione']\n"
     ]
    }
   ],
   "source": [
    "def good():\n",
    "    return ['Harry', 'Ron', 'Hermione']\n",
    "\n",
    "# Example\n",
    "print(good())"
   ]
  },
  {
   "cell_type": "code",
   "execution_count": null,
   "id": "8d7dc28b-31d6-456a-b7b2-c0314d70ad93",
   "metadata": {},
   "outputs": [],
   "source": [
    "9.2"
   ]
  },
  {
   "cell_type": "code",
   "execution_count": null,
   "id": "620e1dce-fb36-4891-9a78-b72c55ee29ea",
   "metadata": {},
   "outputs": [],
   "source": [
    "def get_odds():\n",
    "    for num in range(10):\n",
    "        if num % 2 != 0:  # Check if the number is odd\n",
    "            yield num\n",
    "\n",
    "# Using a for loop to find and print the third odd value\n",
    "odds = get_odds()\n",
    "for i, value in enumerate(odds, start=1):\n",
    "    if i == 3:\n",
    "        print(value)\n",
    "        break"
   ]
  }
 ],
 "metadata": {
  "kernelspec": {
   "display_name": "Python 3 (ipykernel)",
   "language": "python",
   "name": "python3"
  },
  "language_info": {
   "codemirror_mode": {
    "name": "ipython",
    "version": 3
   },
   "file_extension": ".py",
   "mimetype": "text/x-python",
   "name": "python",
   "nbconvert_exporter": "python",
   "pygments_lexer": "ipython3",
   "version": "3.12.4"
  }
 },
 "nbformat": 4,
 "nbformat_minor": 5
}
